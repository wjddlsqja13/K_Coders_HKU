{
 "cells": [
  {
   "cell_type": "markdown",
   "id": "2d52cd51",
   "metadata": {},
   "source": [
    "# Week 8: Dynamic Programming"
   ]
  },
  {
   "cell_type": "markdown",
   "id": "f8bc2d63",
   "metadata": {},
   "source": [
    "오랫동안 업데이트가 없어서 죄송합니다. 진짜 바빴습니다.. 이제 이번 학기 마지막으로 배울 개념은 동적 계획법 (Dynamic Programming; DP) 입니다. 사실 DP를 사용해서 풀 수 있는 문제들에는 조건이 붙습니다. 하지만 가장 출제 경향이 높기 때문에 유형을 잘 파악하시고 좋은 결과 가져가시면 좋겠습니다. <br>\n",
    "  \n",
    "DP는 큰 문제를 작은 문제로 나누어 푸는 방법론을 일컫습니다. 앞서 살펴본 분할 정복 (Divide and Conquer) 과 유사해 보이지만 차이점은 작은 문제들에 반복이 일어나는가 일어나지 않는가의 차이입니다. DP 는 작은 부분의 문제들이 반복되지만 분할 정복은 그러지 않습니다. 밑의 예시들을 참고하시면 감사하겠습니다. <br>\n",
    "  \n",
    "DP를 사용할 수 있는 문제의 조건은 다음과 같습니다. <br>\n",
    "- 작은 문제가 반복이 일어나는 경우\n",
    "- 같은 문제는 구할 때 마다 정답이 같다\n",
    "<br>\n",
    "\n",
    "__Memoization:__ <br>\n",
    "메모이제이션은 앞서 언급했듯이 하위 문제들의 정답이 항상 같습니다. 고로, 한번 계산한 정답은 저장해 놓고 재사용하는 방법을 말합니다. 간단한 예시로 피보나치 수열을 들 수 있겠습니다. 피보나치 수열은 알다시피 F(n) = F(n-1) + F(n-2) 입니다. F(n-1) 은 여러번 사용될 수 있기 때문에 메모이제이션으로 계산의 비효율적인 측면을 없애려 합니다. 밑의 코드는 메모이제이션을 사용한 피보나치를 구현합니다. "
   ]
  },
  {
   "cell_type": "code",
   "execution_count": 5,
   "id": "0528c691",
   "metadata": {},
   "outputs": [
    {
     "name": "stdout",
     "output_type": "stream",
     "text": [
      "7\n",
      "7 번째 피보나치 수는: 13\n"
     ]
    }
   ],
   "source": [
    "def memo_fibo(n):\n",
    "    memo[0] = 1\n",
    "    memo[1] = 1\n",
    "    \n",
    "    if n < 2:\n",
    "        return memo[n]\n",
    "    \n",
    "    for i in range(2, n+1): #굳이 재귀함수를 쓰지 않아도 됨.\n",
    "        memo[i] = memo[i-1] + memo[i-2]\n",
    "        \n",
    "    return memo[n]\n",
    "\n",
    "n = int(input())\n",
    "memo = [0 for i in range(n+2)]\n",
    "print(n,\"번째 피보나치 수는:\",memo_fibo(n-1))"
   ]
  },
  {
   "cell_type": "markdown",
   "id": "788b7ad4",
   "metadata": {},
   "source": [
    "#### Top-down and Bottom-up Approach\n",
    "\n",
    "Top-down 같은 경우 큰 문제를 먼저 접근하고 풀리지 않을 때 작은 문제들을 살펴보는 방법이라고 합니다.. 재귀함수로 구현되는 경우가 많습니다. Bottom-up의 경우 작은 문제들부터 차근 차근 풀어나가는 방법입니다. 피보나치를 두 접근법을 사용해서 구현해 보고 추가적으로 설명하도록 하겠습니다."
   ]
  },
  {
   "cell_type": "code",
   "execution_count": 18,
   "id": "4d70a207",
   "metadata": {},
   "outputs": [
    {
     "name": "stdout",
     "output_type": "stream",
     "text": [
      "6\n",
      "6 번째 피보나치 수는: 8\n"
     ]
    }
   ],
   "source": [
    "#Top-down\n",
    "def fibo_td(n):\n",
    "    if memo[n] > 0:\n",
    "        return memo[n]\n",
    "    \n",
    "    if n <= 1: \n",
    "        memo[n] = n\n",
    "        return memo[n]\n",
    "    \n",
    "    # 큰 문제를 해결하기 위해 계속 더 작은 문제들을 풀기 위한 재귀를 호출\n",
    "    else:\n",
    "        memo[n] = fibo_td(n-1) + fibo_td(n-2)\n",
    "        return memo[n]\n",
    "\n",
    "n = int(input())\n",
    "memo = [0 for i in range(n+2)]\n",
    "print(n,\"번째 피보나치 수는:\",fibo_td(n))"
   ]
  },
  {
   "cell_type": "code",
   "execution_count": 19,
   "id": "0859c9bf",
   "metadata": {},
   "outputs": [
    {
     "name": "stdout",
     "output_type": "stream",
     "text": [
      "3\n",
      "3 번째 피보나치 수는: 2\n"
     ]
    }
   ],
   "source": [
    "#Bottom-up\n",
    "def fibo_bu(n):\n",
    "    if n <= 1:\n",
    "        return n\n",
    "    \n",
    "    fir = 0\n",
    "    sec = 1\n",
    "    # 0부터 n까지 계속 더해줌 - 작은 것부터 해결해나감\n",
    "    for i in range(0, n-1):\n",
    "        next_ = fir + sec\n",
    "        fir = sec\n",
    "        sec = next_\n",
    "    return next_\n",
    "\n",
    "n = int(input())\n",
    "print(n,\"번째 피보나치 수는:\",fibo_bu(n))"
   ]
  },
  {
   "cell_type": "markdown",
   "id": "91289074",
   "metadata": {},
   "source": [
    "문제를 어떤 식으로 접근할지는 문제를 잘 파악하고 구현하는 것이 중요합니다. 다수에 따르면 탑다운의 가독성이 훨씬 낫다고들 얘기하지만 구현의 난이도는 더 높다고 합니다. 사실 취향의 영역이라 생각들기 때문에 자신이 선호하는 방법을 사용하는 것을 권장합니다. 하지만 모든 문제들이 두 접근법을 사용해 풀 수 있는건 아닙니다. Bottom-up 어프로치는 개인적으로 exception handling 에 취약하다고 생각이 들고 가독성이 훨씬 떨어진다고 생각합니다. 물론 사견입니다 :)"
   ]
  },
  {
   "cell_type": "markdown",
   "id": "1825c58d",
   "metadata": {},
   "source": [
    "나무위키에 따르면 가장 대표적인 DP 문제들은 다음과 같다고 합니다. 한 번 참고해 보시고, 만약 문제 사이트에 아래의 문제들이 있다면 무조건 포함하도록 하겠습니다. <br>\n",
    "- 배낭 문제: https://namu.wiki/w/%EB%B0%B0%EB%82%AD%20%EB%AC%B8%EC%A0%9C?from=0-1%20%EB%B0%B0%EB%82%AD%20%EB%AC%B8%EC%A0%9C#s-3\n",
    "- 최장 증가 수열 문제: https://namu.wiki/w/%EC%B5%9C%EC%9E%A5%20%EC%A6%9D%EA%B0%80%20%EB%B6%80%EB%B6%84%20%EC%88%98%EC%97%B4\n",
    "- 연쇄 행렬 곱셈 알고리즘:\n",
    "https://namu.wiki/w/%EC%97%B0%EC%87%84%20%ED%96%89%EB%A0%AC%20%EA%B3%B1%EC%85%88%20%EC%95%8C%EA%B3%A0%EB%A6%AC%EC%A6%98"
   ]
  }
 ],
 "metadata": {
  "kernelspec": {
   "display_name": "Python 3 (ipykernel)",
   "language": "python",
   "name": "python3"
  },
  "language_info": {
   "codemirror_mode": {
    "name": "ipython",
    "version": 3
   },
   "file_extension": ".py",
   "mimetype": "text/x-python",
   "name": "python",
   "nbconvert_exporter": "python",
   "pygments_lexer": "ipython3",
   "version": "3.9.7"
  }
 },
 "nbformat": 4,
 "nbformat_minor": 5
}
