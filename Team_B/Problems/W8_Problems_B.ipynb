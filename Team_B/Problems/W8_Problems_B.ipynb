{
 "cells": [
  {
   "cell_type": "markdown",
   "id": "4294966c",
   "metadata": {},
   "source": [
    "# Week 8 Problems (Team B)\n",
    "\n",
    "- Algorithms: DP\n",
    "\n",
    "__Source에 제공된 링크로 들어가 문제를 봅니다. 참고로 해당 플랫폼의 계정을 만들어야 합니다.__ <br>\n",
    "__문제풀이 테스트 하는 법: 해당 링크로 들어간다 --> 언어를 파이썬으로 설정한다 --> 자신의 풀이 코드를 넣고 돌려본다.__"
   ]
  },
  {
   "cell_type": "markdown",
   "id": "6ed61575",
   "metadata": {},
   "source": [
    "### Apr 4"
   ]
  },
  {
   "cell_type": "markdown",
   "id": "3ee2830a",
   "metadata": {},
   "source": [
    "__Q1. Coin Change__ <br>\n",
    "\n",
    "__Problem No.__: HAD001 <br>\n",
    "__Topic__: DP <br>\n",
    "__Source__: https://www.hackerrank.com/challenges/coin-change/problem?isFullScreen=true <br>\n",
    "__Difficulty__: Medium"
   ]
  },
  {
   "cell_type": "markdown",
   "id": "88db9dec",
   "metadata": {},
   "source": [
    "__Q2. Fibonacci Modified__ <br>\n",
    "\n",
    "__Problem No.__: HAD002 <br>\n",
    "__Topic__: DP <br>\n",
    "__Source__: https://www.hackerrank.com/challenges/fibonacci-modified/problem?isFullScreen=true<br>\n",
    "__Difficulty__: Medium"
   ]
  },
  {
   "cell_type": "markdown",
   "id": "b229eac1",
   "metadata": {},
   "source": [
    "__Q3. Generate Parentheses__ <br>\n",
    "\n",
    "__Problem No.__: LAD001<br>\n",
    "__Topic__: DP <br>\n",
    "__Source__: https://leetcode.com/problems/generate-parentheses/ <br>\n",
    "__Difficulty__: Medium"
   ]
  },
  {
   "cell_type": "markdown",
   "id": "83c84eaa",
   "metadata": {},
   "source": [
    "__Q4. Unique Paths__ <br>\n",
    "\n",
    "__Problem No.__: LAD002 <br>\n",
    "__Topic__: DP <br>\n",
    "__Source__: https://leetcode.com/problems/unique-paths/ <br>\n",
    "__Difficulty__: Medium"
   ]
  },
  {
   "cell_type": "markdown",
   "id": "e15966cc",
   "metadata": {},
   "source": [
    "__Q5. Decibinary Numbers__ <br>\n",
    "\n",
    "__Problem No.__: HAD003 <br>\n",
    "__Topic__: DP <br>\n",
    "__Source__: https://www.hackerrank.com/challenges/decibinary-numbers/problem?isFullScreen=true<br>\n",
    "__Difficulty__: Hard"
   ]
  },
  {
   "cell_type": "markdown",
   "id": "c807bf0d",
   "metadata": {},
   "source": [
    "### Apr 5"
   ]
  },
  {
   "cell_type": "markdown",
   "id": "dfa1e50b",
   "metadata": {},
   "source": [
    "__Q1. Sherlock and Cost__ <br>\n",
    "\n",
    "__Problem No.__: HAD004 <br>\n",
    "__Topic__: DP <br>\n",
    "__Source__: https://www.hackerrank.com/challenges/sherlock-and-cost/problem?isFullScreen=true <br>\n",
    "__Difficulty__: Medium"
   ]
  },
  {
   "cell_type": "markdown",
   "id": "f3aa4215",
   "metadata": {},
   "source": [
    "__Q2. Abbreviation__ <br>\n",
    "\n",
    "__Problem No.__: HAD005<br>\n",
    "__Topic__: DP <br>\n",
    "__Source__: https://www.hackerrank.com/challenges/abbr/problem?isFullScreen=true <br>\n",
    "__Difficulty__: Medium"
   ]
  },
  {
   "cell_type": "markdown",
   "id": "165b17a8",
   "metadata": {},
   "source": [
    "__Q3. Maximum Subarray__ <br>\n",
    "\n",
    "__Problem No.__: HAD006 <br>\n",
    "__Topic__: DP <br>\n",
    "__Source__: https://www.hackerrank.com/challenges/maxsubarray/problem?isFullScreen=true <br>\n",
    "__Difficulty__: Medium"
   ]
  },
  {
   "cell_type": "markdown",
   "id": "68a6d810",
   "metadata": {},
   "source": [
    "__Q4. Lego Blocks__ <br>\n",
    "\n",
    "__Problem No.__: HAD007 <br>\n",
    "__Topic__: DP <br>\n",
    "__Source__: https://www.hackerrank.com/challenges/lego-blocks/problem?isFullScreen=true <br>\n",
    "__Difficulty__: Medium"
   ]
  },
  {
   "cell_type": "markdown",
   "id": "fe6d4e16",
   "metadata": {},
   "source": [
    "__Q5. Stock Maximize__ <br>\n",
    "\n",
    "__Problem No.__: HAD008 <br>\n",
    "__Topic__: DP <br>\n",
    "__Source__: https://www.hackerrank.com/challenges/stockmax/problem?isFullScreen=true <br>\n",
    "__Difficulty__: Medium"
   ]
  },
  {
   "cell_type": "markdown",
   "id": "b42d9c88",
   "metadata": {},
   "source": [
    "### Apr 6\n",
    "comment: Q3: LIS 는 풀어보는걸 강력히 권장드립니다 :)"
   ]
  },
  {
   "cell_type": "markdown",
   "id": "44a81631",
   "metadata": {},
   "source": [
    "__Q1.Pascal's Triangle__ <br>\n",
    "\n",
    "__Problem No.__: LAD003 <br>\n",
    "__Topic__: DP <br>\n",
    "__Source__: https://leetcode.com/problems/pascals-triangle/<br>\n",
    "__Difficulty__: Medium"
   ]
  },
  {
   "cell_type": "markdown",
   "id": "64fc74d9",
   "metadata": {},
   "source": [
    "__Q2. Word Break__ <br>\n",
    "\n",
    "__Problem No.__: LAD004 <br>\n",
    "__Topic__: DP <br>\n",
    "__Source__: https://leetcode.com/problems/word-break/ <br>\n",
    "__Difficulty__: Medium"
   ]
  },
  {
   "cell_type": "markdown",
   "id": "f0d2859a",
   "metadata": {},
   "source": [
    "__Q3. LIS__ <br>\n",
    "\n",
    "__Problem No.__: LAD005 <br>\n",
    "__Topic__: DP <br>\n",
    "__Source__: https://leetcode.com/problems/longest-increasing-subsequence/<br>\n",
    "__Difficulty__: Medium"
   ]
  },
  {
   "cell_type": "markdown",
   "id": "56cd8474",
   "metadata": {},
   "source": [
    "__Q4. Split Array Largest Sum__ <br>\n",
    "\n",
    "__Problem No.__: LAD006 <br>\n",
    "__Topic__: DP <br>\n",
    "__Source__: https://leetcode.com/problems/split-array-largest-sum/<br>\n",
    "__Difficulty__: Hard"
   ]
  },
  {
   "cell_type": "markdown",
   "id": "b44daa19",
   "metadata": {},
   "source": [
    "__Q5. Dice Roll Simulation__ <br>\n",
    "\n",
    "__Problem No.__: LAD007 <br>\n",
    "__Topic__: DP <br>\n",
    "__Source__: https://leetcode.com/problems/dice-roll-simulation/<br>\n",
    "__Difficulty__: Hard"
   ]
  }
 ],
 "metadata": {
  "kernelspec": {
   "display_name": "Python 3 (ipykernel)",
   "language": "python",
   "name": "python3"
  },
  "language_info": {
   "codemirror_mode": {
    "name": "ipython",
    "version": 3
   },
   "file_extension": ".py",
   "mimetype": "text/x-python",
   "name": "python",
   "nbconvert_exporter": "python",
   "pygments_lexer": "ipython3",
   "version": "3.9.7"
  }
 },
 "nbformat": 4,
 "nbformat_minor": 5
}
